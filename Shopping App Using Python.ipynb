{
 "cells": [
  {
   "cell_type": "markdown",
   "id": "c6d35856-9527-4b29-909a-9a7ba6cacc81",
   "metadata": {},
   "source": [
    "# Main E-Commerce Application Class"
   ]
  },
  {
   "cell_type": "code",
   "execution_count": 8,
   "id": "8586d0d4-2acd-4bf4-a208-3a9415566576",
   "metadata": {},
   "outputs": [],
   "source": [
    "class ECommerceApp:\n",
    "    def __init__(self):\n",
    "        # Welcome message\n",
    "        print(\"Welcome to the Demo Marketplace!\")"
   ]
  },
  {
   "cell_type": "markdown",
   "id": "9cb788e4-8085-44f2-8117-b026c6990dda",
   "metadata": {},
   "source": [
    "# Initialize data structures for the application"
   ]
  },
  {
   "cell_type": "code",
   "execution_count": 10,
   "id": "3c69fb18-a070-4cea-b40f-3bf19eba4906",
   "metadata": {},
   "outputs": [
    {
     "ename": "NameError",
     "evalue": "name 'self' is not defined",
     "output_type": "error",
     "traceback": [
      "\u001b[1;31m---------------------------------------------------------------------------\u001b[0m",
      "\u001b[1;31mNameError\u001b[0m                                 Traceback (most recent call last)",
      "Cell \u001b[1;32mIn[10], line 1\u001b[0m\n\u001b[1;32m----> 1\u001b[0m \u001b[38;5;28;43mself\u001b[39;49m\u001b[38;5;241m.\u001b[39musers \u001b[38;5;241m=\u001b[39m {\u001b[38;5;124m\"\u001b[39m\u001b[38;5;124muser\u001b[39m\u001b[38;5;124m\"\u001b[39m: \u001b[38;5;124m\"\u001b[39m\u001b[38;5;124muser123\u001b[39m\u001b[38;5;124m\"\u001b[39m}  \u001b[38;5;66;03m# Demo user credentials\u001b[39;00m\n\u001b[0;32m      2\u001b[0m \u001b[38;5;28mself\u001b[39m\u001b[38;5;241m.\u001b[39madmins \u001b[38;5;241m=\u001b[39m {\u001b[38;5;124m\"\u001b[39m\u001b[38;5;124madmin\u001b[39m\u001b[38;5;124m\"\u001b[39m: \u001b[38;5;124m\"\u001b[39m\u001b[38;5;124madmin123\u001b[39m\u001b[38;5;124m\"\u001b[39m}  \u001b[38;5;66;03m# Demo admin credentials\u001b[39;00m\n\u001b[0;32m      3\u001b[0m \u001b[38;5;28mself\u001b[39m\u001b[38;5;241m.\u001b[39msession \u001b[38;5;241m=\u001b[39m {\u001b[38;5;124m\"\u001b[39m\u001b[38;5;124muser\u001b[39m\u001b[38;5;124m\"\u001b[39m: \u001b[38;5;28;01mNone\u001b[39;00m, \u001b[38;5;124m\"\u001b[39m\u001b[38;5;124madmin\u001b[39m\u001b[38;5;124m\"\u001b[39m: \u001b[38;5;28;01mNone\u001b[39;00m}  \u001b[38;5;66;03m# Tracks active sessions\u001b[39;00m\n",
      "\u001b[1;31mNameError\u001b[0m: name 'self' is not defined"
     ]
    }
   ],
   "source": [
    "self.users = {\"user\": \"user123\"}  # Demo user credentials\n",
    "self.admins = {\"admin\": \"admin123\"}  # Demo admin credentials\n",
    "self.session = {\"user\": None, \"admin\": None}  # Tracks active sessions\n",
    "self.categories = {\n",
    "    1: \"Boots\",\n",
    "    2: \"Coats\",\n",
    "    3: \"Jackets\",\n",
    "    4: \"Caps\"}         "
   ]
  },
  {
   "cell_type": "code",
   "execution_count": null,
   "id": "8792afc3-daf8-4504-806e-6ee92b684da2",
   "metadata": {},
   "outputs": [],
   "source": [
    "# Predefined categories"
   ]
  },
  {
   "cell_type": "code",
   "execution_count": null,
   "id": "c2a615e0-45d8-407e-91fd-64bfa8dc192f",
   "metadata": {},
   "outputs": [],
   "source": [
    "self.product_catalog = {  # Predefined product catalog with IDs and prices\n",
    "            101: {\"name\": \"Snow Boots\", \"category_id\": 1, \"price\": 2000},\n",
    "            102: {\"name\": \"Winter Coat\", \"category_id\": 2, \"price\": 3000},\n",
    "            103: {\"name\": \"Leather Jacket\", \"category_id\": 3, \"price\": 4000},\n",
    "            104: {\"name\": \"Woolen Cap\", \"category_id\": 4, \"price\": 500},\n",
    "        }\n",
    " self.user_cart = {}  # User's shopping cart: {session_id: {product_id: quantity}}"
   ]
  },
  {
   "cell_type": "markdown",
   "id": "fd47b947-3b10-4db2-9915-a56dad48ad8d",
   "metadata": {},
   "source": [
    "# Login function for users and admins"
   ]
  },
  {
   "cell_type": "code",
   "execution_count": null,
   "id": "7b0dd637-9061-4dc2-94e8-422ee7e6dea2",
   "metadata": {},
   "outputs": [],
   "source": [
    "def login(self, role, username, password):\n",
    "        # Role-based login handling\n",
    "        if role == \"user\" and username in self.users and self.users[username] == password:\n",
    "            self.session[\"user\"] = username\n",
    "            print(f\"User '{username}' logged in successfully!\")\n",
    "        elif role == \"admin\" and username in self.admins and self.admins[username] == password:\n",
    "            self.session[\"admin\"] = username\n",
    "            print(f\"Admin '{username}' logged in successfully!\")\n",
    "        else:\n",
    "            print(\"Invalid credentials! Login failed.\")"
   ]
  },
  {
   "cell_type": "markdown",
   "id": "a632da7e-76fc-424b-b540-78dd19192fe2",
   "metadata": {},
   "source": [
    "# Logout function for users and admins"
   ]
  },
  {
   "cell_type": "code",
   "execution_count": null,
   "id": "cae7f883-ad99-4442-a2fb-e41652cf1ae1",
   "metadata": {},
   "outputs": [],
   "source": [
    "\n",
    "    def logout(self, role):\n",
    "        if self.session[role]:\n",
    "            print(f\"{role.capitalize()} '{self.session[role]}' logged out.\")\n",
    "            self.session[role] = None\n",
    "        else:\n",
    "            print(f\"No active {role} session to logout.\")"
   ]
  },
  {
   "cell_type": "markdown",
   "id": "13a077b2-8e34-465f-949b-6f7c7d7790fa",
   "metadata": {},
   "source": [
    " # Display the product catalog"
   ]
  },
  {
   "cell_type": "code",
   "execution_count": null,
   "id": "a87299e0-d3fb-4c40-9311-756f59479e7e",
   "metadata": {},
   "outputs": [],
   "source": [
    "\n",
    "    def display_catalog(self):\n",
    "        print(\"\\nProduct Catalog:\")\n",
    "        for product_id, product in self.product_catalog.items():\n",
    "            category = self.categories[product[\"category_id\"]]\n",
    "            print(f\"ID: {product_id}, Name: {product['name']}, Category: {category}, Price: Rs. {product['price']}\")\n"
   ]
  },
  {
   "cell_type": "markdown",
   "id": "78ff608c-0963-4a8a-876b-42c74b0d4cf5",
   "metadata": {},
   "source": [
    "# User adds items to the cart"
   ]
  },
  {
   "cell_type": "code",
   "execution_count": null,
   "id": "6166055a-9d2e-4cdd-ab59-5d4f92b3f2ae",
   "metadata": {},
   "outputs": [],
   "source": [
    "\n",
    "    def add_to_cart(self, product_id, quantity):\n",
    "        if self.session[\"user\"]:\n",
    "            cart = self.user_cart.setdefault(self.session[\"user\"], {})\n",
    "            cart[product_id] = cart.get(product_id, 0) + quantity\n",
    "            print(f\"Added {quantity} of product ID {product_id} to your cart.\")\n",
    "        else:\n",
    "            print(\"Please login as a user to add items to the cart.\")\n"
   ]
  },
  {
   "cell_type": "markdown",
   "id": "e435beb3-71a2-40d4-9e79-b86d313600d1",
   "metadata": {},
   "source": [
    "# User removes items from the cart"
   ]
  },
  {
   "cell_type": "code",
   "execution_count": null,
   "id": "9040e81a-8eeb-4225-b5fa-f0b97fc31969",
   "metadata": {},
   "outputs": [],
   "source": [
    "\n",
    "    def remove_from_cart(self, product_id, quantity):\n",
    "        if self.session[\"user\"]:\n",
    "            cart = self.user_cart.get(self.session[\"user\"], {})\n",
    "            if product_id in cart:\n",
    "                cart[product_id] = max(0, cart[product_id] - quantity)\n",
    "                if cart[product_id] == 0:\n",
    "                    del cart[product_id]  # Remove item if quantity is zero\n",
    "                print(f\"Removed {quantity} of product ID {product_id} from your cart.\")\n",
    "            else:\n",
    "                print(f\"Product ID {product_id} is not in your cart.\")\n",
    "        else:\n",
    "            print(\"Please login as a user to remove items from the cart.\")\n"
   ]
  },
  {
   "cell_type": "markdown",
   "id": "9d91c672-15dd-4d1e-86be-71d3c2b37b3d",
   "metadata": {},
   "source": [
    " # Display the user's cart"
   ]
  },
  {
   "cell_type": "code",
   "execution_count": null,
   "id": "0e6854ae-d080-46c1-91cb-c73fd0cb5230",
   "metadata": {},
   "outputs": [],
   "source": [
    "\n",
    "    def display_cart(self):\n",
    "        if self.session[\"user\"]:\n",
    "            cart = self.user_cart.get(self.session[\"user\"], {})\n",
    "            if not cart:\n",
    "                print(\"Your cart is empty.\")\n",
    "                return\n",
    "            print(\"\\nYour Cart:\")\n",
    "            total = 0\n",
    "            for product_id, quantity in cart.items():\n",
    "                product = self.product_catalog[product_id]\n",
    "                cost = product[\"price\"] * quantity\n",
    "                total += cost\n",
    "                print(f\"ID: {product_id}, Name: {product['name']}, Quantity: {quantity}, Total: Rs. {cost}\")\n",
    "            print(f\"Cart Total: Rs. {total}\")\n",
    "        else:\n",
    "            print(\"Please login as a user to view your cart.\")\n"
   ]
  },
  {
   "cell_type": "markdown",
   "id": "fe6b7865-9fe9-41e4-8a02-8ebdb45fbd7b",
   "metadata": {},
   "source": [
    " # User checkout with a payment method"
   ]
  },
  {
   "cell_type": "code",
   "execution_count": null,
   "id": "82b1a67f-3150-42cc-abea-ecc097b61300",
   "metadata": {},
   "outputs": [],
   "source": [
    "   \n",
    "    def checkout(self, payment_method):\n",
    "        if self.session[\"user\"]:\n",
    "            cart = self.user_cart.get(self.session[\"user\"], {})\n",
    "            if not cart:\n",
    "                print(\"Your cart is empty. Add items to proceed with checkout.\")\n",
    "                return\n",
    "            total = sum(self.product_catalog[pid][\"price\"] * qty for pid, qty in cart.items())\n",
    "            print(f\"Redirecting to {payment_method} for a payment of Rs. {total}...\")\n",
    "            print(\"Your order is successfully placed!\")\n",
    "            self.user_cart[self.session[\"user\"]] = {}  # Clear the cart after checkout\n",
    "        else:\n",
    "            print(\"Please login as a user to proceed with checkout.\")\n"
   ]
  },
  {
   "cell_type": "markdown",
   "id": "69da1dce-5331-4eba-9ac5-96fe72f3ea5a",
   "metadata": {},
   "source": [
    " # Admin adds a new product"
   ]
  },
  {
   "cell_type": "code",
   "execution_count": null,
   "id": "71909efb-b129-46ac-b171-60caaa8349d5",
   "metadata": {},
   "outputs": [],
   "source": [
    "\n",
    "    def admin_add_product(self, product_id, name, category_id, price):\n",
    "        if self.session[\"admin\"]:\n",
    "            if product_id not in self.product_catalog:\n",
    "                self.product_catalog[product_id] = {\"name\": name, \"category_id\": category_id, \"price\": price}\n",
    "                print(f\"Product '{name}' added to the catalog.\")\n",
    "            else:\n",
    "                print(f\"Product ID {product_id} already exists.\")\n",
    "        else:\n",
    "            print(\"Only admins can add new products.\")\n"
   ]
  },
  {
   "cell_type": "markdown",
   "id": "a58ffd73-29ad-4bcc-bece-97e0077e75e5",
   "metadata": {},
   "source": [
    "# Admin removes a product"
   ]
  },
  {
   "cell_type": "code",
   "execution_count": null,
   "id": "b3be54fc-2c2c-4fce-8ffe-3d443764b31e",
   "metadata": {},
   "outputs": [],
   "source": [
    "\n",
    "    def admin_remove_product(self, product_id):\n",
    "        if self.session[\"admin\"]:\n",
    "            if product_id in self.product_catalog:\n",
    "                del self.product_catalog[product_id]\n",
    "                print(f\"Product ID {product_id} removed from the catalog.\")\n",
    "            else:\n",
    "                print(f\"Product ID {product_id} does not exist.\")\n",
    "        else:\n",
    "            print(\"Only admins can remove products.\")\n"
   ]
  },
  {
   "cell_type": "markdown",
   "id": "efcde063-74af-4e74-bc2b-7a359012123e",
   "metadata": {},
   "source": [
    "# Admin adds a new category"
   ]
  },
  {
   "cell_type": "code",
   "execution_count": null,
   "id": "ca1f14ce-6627-4911-9875-935f431b56ba",
   "metadata": {},
   "outputs": [],
   "source": [
    "\n",
    "    def admin_add_category(self, category_id, category_name):\n",
    "        if self.session[\"admin\"]:\n",
    "            if category_id not in self.categories:\n",
    "                self.categories[category_id] = category_name\n",
    "                print(f\"Category '{category_name}' added.\")\n",
    "            else:\n",
    "                print(f\"Category ID {category_id} already exists.\")\n",
    "        else:\n",
    "            print(\"Only admins can add new categories.\")\n"
   ]
  },
  {
   "cell_type": "markdown",
   "id": "85d6268a-5ba5-48a7-ba90-2b6f06f613d6",
   "metadata": {},
   "source": [
    "# Admin removes a category"
   ]
  },
  {
   "cell_type": "code",
   "execution_count": null,
   "id": "71e882c9-420d-4cab-a662-515e71386ac0",
   "metadata": {},
   "outputs": [],
   "source": [
    "\n",
    "    def admin_remove_category(self, category_id):\n",
    "        if self.session[\"admin\"]:\n",
    "            if category_id in self.categories:\n",
    "                del self.categories[category_id]\n",
    "                print(f\"Category ID {category_id} removed.\")\n",
    "            else:\n",
    "                print(f\"Category ID {category_id} does not exist.\")\n",
    "        else:\n",
    "            print(\"Only admins can remove categories.\")\n"
   ]
  },
  {
   "cell_type": "code",
   "execution_count": null,
   "id": "f9fa919b-a96f-45c5-b8c0-bb76ae4d4a35",
   "metadata": {},
   "outputs": [],
   "source": [
    "# Example usage\n",
    "if __name__ == \"__main__\":\n",
    "    app = ECommerceApp()\n",
    "\n",
    "    # Admin operations\n",
    "    app.login(\"admin\", \"admin123\")\n",
    "    app.admin_add_product(105, \"Raincoat\", 2, 1500)\n",
    "    app.display_catalog()\n",
    "    app.admin_remove_product(105)\n",
    "    app.logout(\"admin\")\n",
    "\n",
    "    # User operations\n",
    "    app.login(\"user\", \"user123\")\n",
    "    app.display_catalog()\n",
    "    app.add_to_cart(101, 2)\n",
    "    app.display_cart()\n",
    "    app.checkout(\"UPI\")\n",
    "    app.logout(\"user\")\n"
   ]
  }
 ],
 "metadata": {
  "kernelspec": {
   "display_name": "Python 3 (ipykernel)",
   "language": "python",
   "name": "python3"
  },
  "language_info": {
   "codemirror_mode": {
    "name": "ipython",
    "version": 3
   },
   "file_extension": ".py",
   "mimetype": "text/x-python",
   "name": "python",
   "nbconvert_exporter": "python",
   "pygments_lexer": "ipython3",
   "version": "3.12.7"
  }
 },
 "nbformat": 4,
 "nbformat_minor": 5
}
